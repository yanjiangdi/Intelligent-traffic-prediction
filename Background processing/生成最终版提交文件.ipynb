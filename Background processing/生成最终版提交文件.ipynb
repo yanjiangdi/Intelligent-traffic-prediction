{
 "cells": [
  {
   "cell_type": "code",
   "execution_count": 1,
   "metadata": {
    "collapsed": false
   },
   "outputs": [],
   "source": [
    "f=file('all_result.txt', \"a+\")\n",
    "for i in range(0,7):\n",
    "    f2 = open('r'+str(i)+'.txt')\n",
    "    for line in f2:\n",
    "        s=line.split(';')\n",
    "        if len(s)==5  and  s[0]!='':\n",
    "            f.write(s[1]+'#'+s[2]+'#'+s[3]+'#'+s[4])\n",
    "    f2.close()\n",
    "f.close()\n",
    "\n",
    "\n",
    "      \n"
   ]
  },
  {
   "cell_type": "code",
   "execution_count": null,
   "metadata": {
    "collapsed": true
   },
   "outputs": [],
   "source": []
  }
 ],
 "metadata": {
  "kernelspec": {
   "display_name": "Python 2",
   "language": "python",
   "name": "python2"
  },
  "language_info": {
   "codemirror_mode": {
    "name": "ipython",
    "version": 2
   },
   "file_extension": ".py",
   "mimetype": "text/x-python",
   "name": "python",
   "nbconvert_exporter": "python",
   "pygments_lexer": "ipython2",
   "version": "2.7.13"
  }
 },
 "nbformat": 4,
 "nbformat_minor": 2
}
