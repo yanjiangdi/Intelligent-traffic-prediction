{
 "cells": [
  {
   "cell_type": "code",
   "execution_count": 8,
   "metadata": {
    "collapsed": false
   },
   "outputs": [],
   "source": [
    "import pandas as pd\n",
    "import numpy as np\n",
    "import matplotlib.pyplot as plt\n",
    "from operator import itemgetter, attrgetter\n",
    "import time,datetime\n",
    "from sklearn.cross_validation import train_test_split\n",
    "\n",
    "\n",
    "    \n",
    "df2=pd.read_table('p2.txt',sep='#', encoding='utf-8')\n",
    "df30=pd.read_table('p30.txt',sep='#', encoding='utf-8')\n",
    "for i in range(0,len(df2)):\n",
    "    df30.iat[i,3]=(df30.iat[i,3]+df2.iat[i,3])/2\n",
    "df30.to_csv('a.txt',sep='#')"
   ]
  },
  {
   "cell_type": "code",
   "execution_count": null,
   "metadata": {
    "collapsed": true
   },
   "outputs": [],
   "source": []
  }
 ],
 "metadata": {
  "kernelspec": {
   "display_name": "Python 2",
   "language": "python",
   "name": "python2"
  },
  "language_info": {
   "codemirror_mode": {
    "name": "ipython",
    "version": 2
   },
   "file_extension": ".py",
   "mimetype": "text/x-python",
   "name": "python",
   "nbconvert_exporter": "python",
   "pygments_lexer": "ipython2",
   "version": "2.7.13"
  }
 },
 "nbformat": 4,
 "nbformat_minor": 2
}
