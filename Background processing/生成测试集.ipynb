{
 "cells": [
  {
   "cell_type": "code",
   "execution_count": 3,
   "metadata": {
    "collapsed": false
   },
   "outputs": [],
   "source": [
    "import pandas as pd\n",
    "import numpy as np\n",
    "import matplotlib.pyplot as plt\n",
    "from operator import itemgetter, attrgetter\n",
    "import time,datetime\n",
    "from sklearn.cross_validation import train_test_split\n",
    "\n",
    "\n",
    "df1=pd.read_table('gy_contest_link_info.txt', header=0,sep=';', encoding='utf-8')\n",
    "\n",
    "txtName = \"te.txt\"\n",
    "f=file(txtName, \"a+\")\n",
    "f.write('link_ID;date;time_interval\\n')\n",
    "for i in range(0,len(df1)):\n",
    "    for j in range(1,31):\n",
    "        for k in range(0,60,2):\n",
    "            if j<10:\n",
    "                if k<8:   \n",
    "                    f.write(df1.iat[i,0]+';'+'2016-06-0'+str(j)+';'+'[2016-06-0'+str(j)+' '+'08:0'+str(k)+':00,2016-06-0'+str(j)+' '+'08:0'+str(k+2)+':00)\\n')\n",
    "                    \n",
    "                elif k==8:\n",
    "                    \n",
    "                    f.write(df1.iat[i,0]+';'+'2016-06-0'+str(j)+';'+'[2016-06-0'+str(j)+' '+'08:0'+str(k)+':00,2016-06-0'+str(j)+' '+'08:'+str(k+2)+':00)\\n')\n",
    "                else:\n",
    "                    f.write(df1.iat[i,0]+';'+'2016-06-0'+str(j)+';'+'[2016-06-0'+str(j)+' '+'08:'+str(k)+':00,2016-06-0'+str(j)+' '+'08:'+str(k+2)+':00)\\n')\n",
    "                    \n",
    "            else:\n",
    "                 if k<8:   \n",
    "                    f.write(df1.iat[i,0]+';'+'2016-06-'+str(j)+';'+'[2016-06-'+str(j)+' '+'08:0'+str(k)+':00,2016-06-'+str(j)+' '+'08:0'+str(k+2)+':00)\\n')\n",
    "                \n",
    "                 elif k==8:\n",
    "                    f.write(df1.iat[i,0]+';'+'2016-06-'+str(j)+';'+'[2016-06-'+str(j)+' '+'08:0'+str(k)+':00,2016-06-'+str(j)+' '+'08:'+str(k+2)+':00)\\n')\n",
    "                \n",
    "                 else:\n",
    "                    f.write(df1.iat[i,0]+';'+'2016-06-'+str(j)+';'+'[2016-06-'+str(j)+' '+'08:'+str(k)+':00,2016-06-'+str(j)+' '+'08:'+str(k+2)+':00)\\n')\n",
    "                \n",
    "f.close()\n",
    "                \n",
    "\n",
    "    \n",
    "\n",
    "\n",
    "\n"
   ]
  },
  {
   "cell_type": "code",
   "execution_count": null,
   "metadata": {
    "collapsed": true
   },
   "outputs": [],
   "source": []
  }
 ],
 "metadata": {
  "kernelspec": {
   "display_name": "Python 2",
   "language": "python",
   "name": "python2"
  },
  "language_info": {
   "codemirror_mode": {
    "name": "ipython",
    "version": 2
   },
   "file_extension": ".py",
   "mimetype": "text/x-python",
   "name": "python",
   "nbconvert_exporter": "python",
   "pygments_lexer": "ipython2",
   "version": "2.7.13"
  }
 },
 "nbformat": 4,
 "nbformat_minor": 2
}
