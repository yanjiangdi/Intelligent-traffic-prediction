{
 "cells": [
  {
   "cell_type": "code",
   "execution_count": 8,
   "metadata": {
    "collapsed": false
   },
   "outputs": [
    {
     "name": "stdout",
     "output_type": "stream",
     "text": [
      "0.331476916655\n"
     ]
    }
   ],
   "source": [
    "import pandas as pd\n",
    "import numpy as np\n",
    "\n",
    "def ac(row):\n",
    "    row = row[0].split(\",\")\n",
    "    return abs(float(row[0])-float(row[17]))/float(row[17])\n",
    "\n",
    "\n",
    "def mape(path):\n",
    "    data = pd.read_csv(path, sep=\";\")\n",
    "    data = data.apply(lambda row: ac(row.values.tolist()), axis=1)\n",
    "    print data.mean()\n",
    "    \n",
    "mape('C:\\\\Users\\\\BIGDATA\\\\45-85-0(3).csv')\n"
   ]
  },
  {
   "cell_type": "code",
   "execution_count": null,
   "metadata": {
    "collapsed": true
   },
   "outputs": [],
   "source": []
  }
 ],
 "metadata": {
  "kernelspec": {
   "display_name": "Python 2",
   "language": "python",
   "name": "python2"
  },
  "language_info": {
   "codemirror_mode": {
    "name": "ipython",
    "version": 2
   },
   "file_extension": ".py",
   "mimetype": "text/x-python",
   "name": "python",
   "nbconvert_exporter": "python",
   "pygments_lexer": "ipython2",
   "version": "2.7.13"
  }
 },
 "nbformat": 4,
 "nbformat_minor": 2
}
